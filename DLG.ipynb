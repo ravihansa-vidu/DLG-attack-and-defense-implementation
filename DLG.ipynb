{
  "nbformat": 4,
  "nbformat_minor": 0,
  "metadata": {
    "colab": {
      "provenance": []
    },
    "kernelspec": {
      "name": "python3",
      "display_name": "Python 3"
    },
    "language_info": {
      "name": "python"
    }
  },
  "cells": [
    {
      "cell_type": "code",
      "execution_count": 127,
      "metadata": {
        "id": "Ofgy64MxJ2mH"
      },
      "outputs": [],
      "source": [
        "import tensorflow as tf\n",
        "from tensorflow.keras import layers\n",
        "import numpy as np\n",
        "import matplotlib.pyplot as plt\n",
        "from PIL import Image\n",
        "from sklearn.metrics import mean_squared_error"
      ]
    },
    {
      "cell_type": "code",
      "source": [
        "# Load and preprocess one image\n",
        "image1 = np.array(Image.open('image3.png').convert('L')) / 255.0\n",
        "images = image1.reshape(1, 28, 28, 1)  # Note the batch dimension is now 1\n",
        "\n",
        "# Convert images to a TensorFlow tensor\n",
        "images = tf.convert_to_tensor(images, dtype=tf.float32)\n"
      ],
      "metadata": {
        "id": "exTpK1oYKAjM"
      },
      "execution_count": 128,
      "outputs": []
    },
    {
      "cell_type": "code",
      "source": [
        "# Define the model architecture\n",
        "model = tf.keras.Sequential([\n",
        "    layers.Flatten(input_shape=(28, 28, 1)),\n",
        "    layers.Dense(128, activation='relu'),\n",
        "    layers.Dense(1024, activation='relu'),\n",
        "    layers.BatchNormalization(),\n",
        "    layers.Dense(5, activation='softmax')\n",
        "])"
      ],
      "metadata": {
        "id": "Hbxsf2L5KOtt"
      },
      "execution_count": 129,
      "outputs": []
    },
    {
      "cell_type": "code",
      "source": [
        "# Compile and train the model on the single image\n",
        "model.compile(optimizer='adam', loss='sparse_categorical_crossentropy', metrics=['accuracy'])\n",
        "labels = np.array([1])  # dummy Label for the single image\n",
        "model.fit(images, labels, epochs=10)  # Training on one image\n"
      ],
      "metadata": {
        "colab": {
          "base_uri": "https://localhost:8080/"
        },
        "id": "eCa0YdQWKWus",
        "outputId": "6ae8fe94-cb6f-4b76-8567-0a28509b93f7"
      },
      "execution_count": 130,
      "outputs": [
        {
          "output_type": "stream",
          "name": "stdout",
          "text": [
            "Epoch 1/10\n",
            "1/1 [==============================] - 1s 1s/step - loss: 1.6094 - accuracy: 0.0000e+00\n",
            "Epoch 2/10\n",
            "1/1 [==============================] - 0s 30ms/step - loss: 1.5742 - accuracy: 1.0000\n",
            "Epoch 3/10\n",
            "1/1 [==============================] - 0s 17ms/step - loss: 1.5369 - accuracy: 1.0000\n",
            "Epoch 4/10\n",
            "1/1 [==============================] - 0s 21ms/step - loss: 1.4973 - accuracy: 1.0000\n",
            "Epoch 5/10\n",
            "1/1 [==============================] - 0s 23ms/step - loss: 1.4551 - accuracy: 1.0000\n",
            "Epoch 6/10\n",
            "1/1 [==============================] - 0s 16ms/step - loss: 1.4106 - accuracy: 1.0000\n",
            "Epoch 7/10\n",
            "1/1 [==============================] - 0s 14ms/step - loss: 1.3635 - accuracy: 1.0000\n",
            "Epoch 8/10\n",
            "1/1 [==============================] - 0s 17ms/step - loss: 1.3142 - accuracy: 1.0000\n",
            "Epoch 9/10\n",
            "1/1 [==============================] - 0s 15ms/step - loss: 1.2626 - accuracy: 1.0000\n",
            "Epoch 10/10\n",
            "1/1 [==============================] - 0s 24ms/step - loss: 1.2089 - accuracy: 1.0000\n"
          ]
        },
        {
          "output_type": "execute_result",
          "data": {
            "text/plain": [
              "<keras.src.callbacks.History at 0x7ac93a099f00>"
            ]
          },
          "metadata": {},
          "execution_count": 130
        }
      ]
    },
    {
      "cell_type": "code",
      "source": [
        "# Calculate real gradients for the single image\n",
        "with tf.GradientTape() as tape:\n",
        "    tape.watch(images)\n",
        "    predictions = model(images)\n",
        "    loss = tf.keras.losses.sparse_categorical_crossentropy(labels, predictions)\n",
        "real_gradients = tape.gradient(loss, model.trainable_variables)"
      ],
      "metadata": {
        "id": "NEfoHXVGKiwT"
      },
      "execution_count": 131,
      "outputs": []
    },
    {
      "cell_type": "code",
      "source": [
        "# (remove comments to add the noise)\n",
        "# Add Gaussian noise to the real gradients\n",
        "# noise_stddev = 0.1  # Standard deviation of the Gaussian noise\n",
        "# real_gradients = [g + tf.random.normal(g.shape, mean=0.0, stddev=noise_stddev) for g in real_gradients]"
      ],
      "metadata": {
        "id": "XhgNbsWhfsag"
      },
      "execution_count": 132,
      "outputs": []
    },
    {
      "cell_type": "code",
      "source": [
        "# Initialize dummy data and labels for one image\n",
        "dummy_data = tf.Variable(np.random.normal(size=images.shape)*0.01 + 0.03, dtype=tf.float32, trainable=True)\n",
        "dummy_labels = tf.Variable(np.random.uniform(0, 1, size=(1, 5)), dtype=tf.float32, trainable=True)\n"
      ],
      "metadata": {
        "id": "JJqsfTMqL_Ab"
      },
      "execution_count": 133,
      "outputs": []
    },
    {
      "cell_type": "code",
      "source": [
        "initial_learning_rate = 0.015\n",
        "lr_schedule = tf.keras.optimizers.schedules.ExponentialDecay(\n",
        "    initial_learning_rate, decay_steps=200, decay_rate=0.85, staircase=True)\n",
        "optimizer = tf.optimizers.Adam(learning_rate=lr_schedule)\n",
        "\n",
        "def compute_loss_and_grads(dummy_data, dummy_labels, real_gradients, model):\n",
        "\n",
        "    grad_diff = 0\n",
        "\n",
        "    with tf.GradientTape(persistent=True) as tape:\n",
        "        tape.watch([dummy_data, dummy_labels])\n",
        "        dummy_predictions = model(dummy_data)\n",
        "        dummy_loss = tf.keras.losses.categorical_crossentropy(tf.nn.softmax(dummy_labels), dummy_predictions)\n",
        "\n",
        "        dummy_gradients = tape.gradient(dummy_loss, model.trainable_variables)\n",
        "        if dummy_gradients is None or any(g is None for g in dummy_gradients):\n",
        "            print(\"Dummy gradients computation failed.\")\n",
        "            return None, (None, None)\n",
        "\n",
        "        grad_diff = tf.add_n([tf.norm(rg - dg) if rg is not None and dg is not None else 0 for rg, dg in zip(real_gradients, dummy_gradients)])\n",
        "\n",
        "        dummy_data_grads = tape.gradient(grad_diff, dummy_data)\n",
        "        dummy_label_grads = tape.gradient(grad_diff, dummy_labels)\n",
        "\n",
        "    #  Clean up tape after use\n",
        "    del tape\n",
        "\n",
        "    if dummy_data_grads is None or dummy_label_grads is None:\n",
        "        print(\"Gradient computation for dummy data/labels failed.\")\n",
        "        return grad_diff, (None, None)\n",
        "\n",
        "    return grad_diff, (dummy_data_grads, dummy_label_grads)\n",
        "\n",
        "# Adjust the optimization loop\n",
        "clip_value = 1.0\n",
        "for step in range(1000):\n",
        "    result = compute_loss_and_grads(dummy_data, dummy_labels, real_gradients, model)\n",
        "    if result is None:\n",
        "        print(f\"Failed to compute gradients at step {step}\")\n",
        "        continue\n",
        "\n",
        "    grad_diff, (dummy_data_grads, dummy_label_grads) = result\n",
        "    if dummy_data_grads is not None and dummy_label_grads is not None:\n",
        "        dummy_data_grads = [tf.clip_by_norm(g, clip_value) for g in dummy_data_grads]\n",
        "        dummy_label_grads = [tf.clip_by_norm(g, clip_value) for g in dummy_label_grads]\n",
        "        optimizer.apply_gradients([(dummy_data_grads, dummy_data), (dummy_label_grads, dummy_labels)])\n",
        "    else:\n",
        "        print(\"Invalid gradients; skipping update at step\", step)\n",
        "\n",
        "    if step % 50 == 0:\n",
        "      print(f\"Step {step}, Gradient Difference: {grad_diff.numpy()}\" if grad_diff is not None else \"Gradient diff computation failed.\")\n",
        "\n",
        "\n"
      ],
      "metadata": {
        "colab": {
          "base_uri": "https://localhost:8080/"
        },
        "id": "34XQKhx2MKdM",
        "outputId": "05dad9a6-f183-48b6-8054-ed1e0d2066e5"
      },
      "execution_count": 134,
      "outputs": [
        {
          "output_type": "stream",
          "name": "stderr",
          "text": [
            "WARNING:tensorflow:Calling GradientTape.gradient on a persistent tape inside its context is significantly less efficient than calling it outside the context (it causes the gradient ops to be recorded on the tape, leading to increased CPU and memory usage). Only call GradientTape.gradient inside the context if you actually want to trace the gradient in order to compute higher order derivatives.\n",
            "WARNING:tensorflow:Calling GradientTape.gradient on a persistent tape inside its context is significantly less efficient than calling it outside the context (it causes the gradient ops to be recorded on the tape, leading to increased CPU and memory usage). Only call GradientTape.gradient inside the context if you actually want to trace the gradient in order to compute higher order derivatives.\n",
            "WARNING:tensorflow:Calling GradientTape.gradient on a persistent tape inside its context is significantly less efficient than calling it outside the context (it causes the gradient ops to be recorded on the tape, leading to increased CPU and memory usage). Only call GradientTape.gradient inside the context if you actually want to trace the gradient in order to compute higher order derivatives.\n"
          ]
        },
        {
          "output_type": "stream",
          "name": "stdout",
          "text": [
            "Step 0, Gradient Difference: 18.93563461303711\n",
            "Step 50, Gradient Difference: 16.809682846069336\n",
            "Step 100, Gradient Difference: 15.605506896972656\n",
            "Step 150, Gradient Difference: 14.052037239074707\n",
            "Step 200, Gradient Difference: 13.343826293945312\n",
            "Step 250, Gradient Difference: 13.080326080322266\n",
            "Step 300, Gradient Difference: 12.937341690063477\n",
            "Step 350, Gradient Difference: 12.728168487548828\n",
            "Step 400, Gradient Difference: 12.603290557861328\n",
            "Step 450, Gradient Difference: 12.380691528320312\n",
            "Step 500, Gradient Difference: 12.272010803222656\n",
            "Step 550, Gradient Difference: 12.239694595336914\n",
            "Step 600, Gradient Difference: 12.1201753616333\n",
            "Step 650, Gradient Difference: 12.083950996398926\n",
            "Step 700, Gradient Difference: 12.145956039428711\n",
            "Step 750, Gradient Difference: 12.015427589416504\n",
            "Step 800, Gradient Difference: 12.07111930847168\n",
            "Step 850, Gradient Difference: 12.02939510345459\n",
            "Step 900, Gradient Difference: 12.007695198059082\n",
            "Step 950, Gradient Difference: 11.997957229614258\n"
          ]
        }
      ]
    },
    {
      "cell_type": "code",
      "source": [
        "# Visualize the results - showing both original and reconstructed images\n",
        "fig, axes = plt.subplots(1, 2, figsize=(8, 4))\n",
        "\n",
        "images_np = images.numpy()\n",
        "\n",
        "# Display the original image\n",
        "axes[0].imshow(images_np[0].reshape(28, 28), cmap='gray')\n",
        "axes[0].set_title('Original Image')\n",
        "axes[0].axis('off')\n",
        "\n",
        "# Display the reconstructed image\n",
        "axes[1].imshow(dummy_data[0].numpy().reshape(28, 28), cmap='gray')\n",
        "axes[1].set_title('Reconstructed Image')\n",
        "axes[1].axis('off')\n",
        "\n",
        "plt.show()"
      ],
      "metadata": {
        "id": "Q4zG41pPQaiD",
        "colab": {
          "base_uri": "https://localhost:8080/",
          "height": 341
        },
        "outputId": "0ccfaf92-f947-4a0c-faa9-4876bafa663b"
      },
      "execution_count": 135,
      "outputs": [
        {
          "output_type": "display_data",
          "data": {
            "text/plain": [
              "<Figure size 800x400 with 2 Axes>"
            ],
            "image/png": "[encoded data removed]"
          },
          "metadata": {}
        }
      ]
    },
    {
      "cell_type": "code",
      "source": [
        "reconstructed_image = dummy_data[0].numpy()\n",
        "mse = mean_squared_error(images_np.flatten(), reconstructed_image.flatten())\n",
        "print(f'Mean Squared Error (MSE) between original and reconstructed image: {mse}')"
      ],
      "metadata": {
        "colab": {
          "base_uri": "https://localhost:8080/"
        },
        "id": "IvIyTTZaGmsL",
        "outputId": "70e4cf18-abaf-44f5-fdda-bfdc2ae2b5be"
      },
      "execution_count": 136,
      "outputs": [
        {
          "output_type": "stream",
          "name": "stdout",
          "text": [
            "Mean Squared Error (MSE) between original and reconstructed image: 0.998780369758606\n"
          ]
        }
      ]
    }
  ]
}