{
  "nbformat": 4,
  "nbformat_minor": 0,
  "metadata": {
    "colab": {
      "provenance": []
    },
    "kernelspec": {
      "name": "python3",
      "display_name": "Python 3"
    },
    "language_info": {
      "name": "python"
    }
  },
  "cells": [
    {
      "cell_type": "code",
      "execution_count": 147,
      "metadata": {
        "id": "Ofgy64MxJ2mH"
      },
      "outputs": [],
      "source": [
        "import tensorflow as tf\n",
        "from tensorflow.keras import layers\n",
        "import numpy as np\n",
        "import matplotlib.pyplot as plt\n",
        "from PIL import Image\n",
        "from sklearn.metrics import mean_squared_error"
      ]
    },
    {
      "cell_type": "code",
      "source": [
        "# Load and preprocess one image\n",
        "image1 = np.array(Image.open('image2.png').convert('L')) / 255.0\n",
        "images = image1.reshape(1, 28, 28, 1)  # Note the batch dimension is now 1\n",
        "\n",
        "# Convert images to a TensorFlow tensor\n",
        "images = tf.convert_to_tensor(images, dtype=tf.float32)\n"
      ],
      "metadata": {
        "id": "exTpK1oYKAjM"
      },
      "execution_count": 148,
      "outputs": []
    },
    {
      "cell_type": "code",
      "source": [
        "# Define the model architecture\n",
        "model = tf.keras.Sequential([\n",
        "    layers.Flatten(input_shape=(28, 28, 1)),\n",
        "    layers.Dense(128, activation='relu'),\n",
        "    layers.Dense(1024, activation='relu'),\n",
        "    layers.BatchNormalization(),\n",
        "    layers.Dense(5, activation='softmax')\n",
        "])"
      ],
      "metadata": {
        "id": "Hbxsf2L5KOtt"
      },
      "execution_count": 149,
      "outputs": []
    },
    {
      "cell_type": "code",
      "source": [
        "# Compile and train the model on the single image\n",
        "model.compile(optimizer='adam', loss='sparse_categorical_crossentropy', metrics=['accuracy'])\n",
        "labels = np.array([1])  # dummy Label for the single image\n",
        "model.fit(images, labels, epochs=10)  # Training on one image\n"
      ],
      "metadata": {
        "colab": {
          "base_uri": "https://localhost:8080/"
        },
        "id": "eCa0YdQWKWus",
        "outputId": "fd6a2996-fbef-4371-9942-ddeec5c238b0"
      },
      "execution_count": 150,
      "outputs": [
        {
          "output_type": "stream",
          "name": "stdout",
          "text": [
            "Epoch 1/10\n",
            "1/1 [==============================] - 2s 2s/step - loss: 1.6094 - accuracy: 0.0000e+00\n",
            "Epoch 2/10\n",
            "1/1 [==============================] - 0s 16ms/step - loss: 1.5747 - accuracy: 1.0000\n",
            "Epoch 3/10\n",
            "1/1 [==============================] - 0s 15ms/step - loss: 1.5379 - accuracy: 1.0000\n",
            "Epoch 4/10\n",
            "1/1 [==============================] - 0s 15ms/step - loss: 1.4987 - accuracy: 1.0000\n",
            "Epoch 5/10\n",
            "1/1 [==============================] - 0s 16ms/step - loss: 1.4571 - accuracy: 1.0000\n",
            "Epoch 6/10\n",
            "1/1 [==============================] - 0s 12ms/step - loss: 1.4130 - accuracy: 1.0000\n",
            "Epoch 7/10\n",
            "1/1 [==============================] - 0s 14ms/step - loss: 1.3664 - accuracy: 1.0000\n",
            "Epoch 8/10\n",
            "1/1 [==============================] - 0s 12ms/step - loss: 1.3174 - accuracy: 1.0000\n",
            "Epoch 9/10\n",
            "1/1 [==============================] - 0s 14ms/step - loss: 1.2662 - accuracy: 1.0000\n",
            "Epoch 10/10\n",
            "1/1 [==============================] - 0s 18ms/step - loss: 1.2128 - accuracy: 1.0000\n"
          ]
        },
        {
          "output_type": "execute_result",
          "data": {
            "text/plain": [
              "<keras.src.callbacks.History at 0x7ac9285cf730>"
            ]
          },
          "metadata": {},
          "execution_count": 150
        }
      ]
    },
    {
      "cell_type": "code",
      "source": [
        "# Calculate real gradients for the single image\n",
        "with tf.GradientTape() as tape:\n",
        "    tape.watch(images)\n",
        "    predictions = model(images)\n",
        "    loss = tf.keras.losses.sparse_categorical_crossentropy(labels, predictions)\n",
        "real_gradients = tape.gradient(loss, model.trainable_variables)"
      ],
      "metadata": {
        "id": "NEfoHXVGKiwT"
      },
      "execution_count": 151,
      "outputs": []
    },
    {
      "cell_type": "code",
      "source": [
        "# (remove comments to add the noise)\n",
        "# Add Gaussian noise to the real gradients\n",
        "# noise_stddev = 0.1  # Standard deviation of the Gaussian noise\n",
        "# real_gradients = [g + tf.random.normal(g.shape, mean=0.0, stddev=noise_stddev) for g in real_gradients]"
      ],
      "metadata": {
        "id": "XhgNbsWhfsag"
      },
      "execution_count": 152,
      "outputs": []
    },
    {
      "cell_type": "code",
      "source": [
        "# Initialize dummy data and labels for one image\n",
        "dummy_data = tf.Variable(np.random.normal(size=images.shape)*0.01 + 0.03, dtype=tf.float32, trainable=True)\n",
        "dummy_labels = tf.Variable(np.random.uniform(0, 1, size=(1, 5)), dtype=tf.float32, trainable=True)\n"
      ],
      "metadata": {
        "id": "JJqsfTMqL_Ab"
      },
      "execution_count": 153,
      "outputs": []
    },
    {
      "cell_type": "code",
      "source": [
        "initial_learning_rate = 0.015\n",
        "lr_schedule = tf.keras.optimizers.schedules.ExponentialDecay(\n",
        "    initial_learning_rate, decay_steps=200, decay_rate=0.85, staircase=True)\n",
        "optimizer = tf.optimizers.Adam(learning_rate=lr_schedule)\n",
        "\n",
        "def compute_loss_and_grads(dummy_data, dummy_labels, real_gradients, model):\n",
        "\n",
        "    grad_diff = 0\n",
        "\n",
        "    with tf.GradientTape(persistent=True) as tape:\n",
        "        tape.watch([dummy_data, dummy_labels])\n",
        "        dummy_predictions = model(dummy_data)\n",
        "        dummy_loss = tf.keras.losses.categorical_crossentropy(tf.nn.softmax(dummy_labels), dummy_predictions)\n",
        "\n",
        "        dummy_gradients = tape.gradient(dummy_loss, model.trainable_variables)\n",
        "        if dummy_gradients is None or any(g is None for g in dummy_gradients):\n",
        "            print(\"Dummy gradients computation failed.\")\n",
        "            return None, (None, None)\n",
        "\n",
        "        grad_diff = tf.add_n([tf.norm(rg - dg) if rg is not None and dg is not None else 0 for rg, dg in zip(real_gradients, dummy_gradients)])\n",
        "\n",
        "        dummy_data_grads = tape.gradient(grad_diff, dummy_data)\n",
        "        dummy_label_grads = tape.gradient(grad_diff, dummy_labels)\n",
        "\n",
        "    #  Clean up tape after use\n",
        "    del tape\n",
        "\n",
        "    if dummy_data_grads is None or dummy_label_grads is None:\n",
        "        print(\"Gradient computation for dummy data/labels failed.\")\n",
        "        return grad_diff, (None, None)\n",
        "\n",
        "    return grad_diff, (dummy_data_grads, dummy_label_grads)\n",
        "\n",
        "# Adjust the optimization loop\n",
        "clip_value = 1.0\n",
        "for step in range(1000):\n",
        "    result = compute_loss_and_grads(dummy_data, dummy_labels, real_gradients, model)\n",
        "    if result is None:\n",
        "        print(f\"Failed to compute gradients at step {step}\")\n",
        "        continue\n",
        "\n",
        "    grad_diff, (dummy_data_grads, dummy_label_grads) = result\n",
        "    if dummy_data_grads is not None and dummy_label_grads is not None:\n",
        "        dummy_data_grads = [tf.clip_by_norm(g, clip_value) for g in dummy_data_grads]\n",
        "        dummy_label_grads = [tf.clip_by_norm(g, clip_value) for g in dummy_label_grads]\n",
        "        optimizer.apply_gradients([(dummy_data_grads, dummy_data), (dummy_label_grads, dummy_labels)])\n",
        "    else:\n",
        "        print(\"Invalid gradients; skipping update at step\", step)\n",
        "\n",
        "    if step % 50 == 0:\n",
        "      print(f\"Step {step}, Gradient Difference: {grad_diff.numpy()}\" if grad_diff is not None else \"Gradient diff computation failed.\")\n",
        "\n",
        "\n"
      ],
      "metadata": {
        "colab": {
          "base_uri": "https://localhost:8080/"
        },
        "id": "34XQKhx2MKdM",
        "outputId": "001b79d5-2c26-4501-c4a7-177213cffeaf"
      },
      "execution_count": 154,
      "outputs": [
        {
          "output_type": "stream",
          "name": "stderr",
          "text": [
            "WARNING:tensorflow:Calling GradientTape.gradient on a persistent tape inside its context is significantly less efficient than calling it outside the context (it causes the gradient ops to be recorded on the tape, leading to increased CPU and memory usage). Only call GradientTape.gradient inside the context if you actually want to trace the gradient in order to compute higher order derivatives.\n",
            "WARNING:tensorflow:Calling GradientTape.gradient on a persistent tape inside its context is significantly less efficient than calling it outside the context (it causes the gradient ops to be recorded on the tape, leading to increased CPU and memory usage). Only call GradientTape.gradient inside the context if you actually want to trace the gradient in order to compute higher order derivatives.\n",
            "WARNING:tensorflow:Calling GradientTape.gradient on a persistent tape inside its context is significantly less efficient than calling it outside the context (it causes the gradient ops to be recorded on the tape, leading to increased CPU and memory usage). Only call GradientTape.gradient inside the context if you actually want to trace the gradient in order to compute higher order derivatives.\n"
          ]
        },
        {
          "output_type": "stream",
          "name": "stdout",
          "text": [
            "Step 0, Gradient Difference: 23.050504684448242\n",
            "Step 50, Gradient Difference: 20.29650115966797\n",
            "Step 100, Gradient Difference: 19.362314224243164\n",
            "Step 150, Gradient Difference: 15.83189582824707\n",
            "Step 200, Gradient Difference: 14.44100284576416\n",
            "Step 250, Gradient Difference: 14.213375091552734\n",
            "Step 300, Gradient Difference: 13.038057327270508\n",
            "Step 350, Gradient Difference: 12.311405181884766\n",
            "Step 400, Gradient Difference: 11.684813499450684\n",
            "Step 450, Gradient Difference: 11.344088554382324\n",
            "Step 500, Gradient Difference: 10.602599143981934\n",
            "Step 550, Gradient Difference: 10.376317977905273\n",
            "Step 600, Gradient Difference: 10.298962593078613\n",
            "Step 650, Gradient Difference: 10.177754402160645\n",
            "Step 700, Gradient Difference: 9.230910301208496\n",
            "Step 750, Gradient Difference: 9.336532592773438\n",
            "Step 800, Gradient Difference: 9.267695426940918\n",
            "Step 850, Gradient Difference: 9.338908195495605\n",
            "Step 900, Gradient Difference: 9.24230670928955\n",
            "Step 950, Gradient Difference: 8.951207160949707\n"
          ]
        }
      ]
    },
    {
      "cell_type": "code",
      "source": [
        "# Visualize the results - showing both original and reconstructed images\n",
        "fig, axes = plt.subplots(1, 2, figsize=(8, 4))\n",
        "\n",
        "images_np = images.numpy()\n",
        "\n",
        "# Display the original image\n",
        "axes[0].imshow(images_np[0].reshape(28, 28), cmap='gray')\n",
        "axes[0].set_title('Original Image')\n",
        "axes[0].axis('off')\n",
        "\n",
        "# Display the reconstructed image\n",
        "axes[1].imshow(dummy_data[0].numpy().reshape(28, 28), cmap='gray')\n",
        "axes[1].set_title('Reconstructed Image')\n",
        "axes[1].axis('off')\n",
        "\n",
        "plt.show()"
      ],
      "metadata": {
        "id": "Q4zG41pPQaiD",
        "colab": {
          "base_uri": "https://localhost:8080/",
          "height": 341
        },
        "outputId": "2ae66d3b-b276-42ac-8b39-e59cedb02338"
      },
      "execution_count": 155,
      "outputs": [
        {
          "output_type": "display_data",
          "data": {
            "text/plain": [
              "<Figure size 800x400 with 2 Axes>"
            ],
            "image/png": "[encoded data removed]"
          },
          "metadata": {}
        }
      ]
    },
    {
      "cell_type": "code",
      "source": [
        "reconstructed_image = dummy_data[0].numpy()\n",
        "mse = mean_squared_error(images_np.flatten(), reconstructed_image.flatten())\n",
        "print(f'Mean Squared Error (MSE) between original and reconstructed image: {mse}')"
      ],
      "metadata": {
        "colab": {
          "base_uri": "https://localhost:8080/"
        },
        "id": "IvIyTTZaGmsL",
        "outputId": "de48de54-6a86-4735-ae30-cc31ceb9b2df"
      },
      "execution_count": 156,
      "outputs": [
        {
          "output_type": "stream",
          "name": "stdout",
          "text": [
            "Mean Squared Error (MSE) between original and reconstructed image: 2.818610906600952\n"
          ]
        }
      ]
    }
  ]
}